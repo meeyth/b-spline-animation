{
  "cells": [
    {
      "cell_type": "code",
      "execution_count": 11,
      "metadata": {
        "id": "4ED4v80KFSDj"
      },
      "outputs": [],
      "source": [
        "from kan import *\n",
        "import torch\n",
        "import torch.nn as nn\n",
        "import numpy as np\n",
        "import random\n",
        "from tqdm import tqdm"
      ]
    },
    {
      "cell_type": "code",
      "execution_count": 12,
      "metadata": {
        "id": "wPjOseJyE5vj"
      },
      "outputs": [],
      "source": [
        "def B_batch(x, grid, k=0, device='cpu'):\n",
        "    \"\"\"\n",
        "    # Computes B-spline basis functions B_i(x) of degree k for a batch of x values using cox-deboor algorithm.\n",
        "    # This corresponds to computing the B_i(x) terms in the formula:\n",
        "    # spline(x) = c_1 B_1(x) + c_2 B_2(x) + ... + c_n B_n(x)\n",
        "    \"\"\"\n",
        "\n",
        "    x = x.unsqueeze(dim=2)\n",
        "    grid = grid.unsqueeze(dim=0)\n",
        "\n",
        "    if k == 0:\n",
        "        value = (x >= grid[:, :, :-1]) * (x < grid[:, :, 1:])\n",
        "    else:\n",
        "        B_km1 = B_batch(x[:, :, 0], grid=grid[0], k=k - 1)\n",
        "\n",
        "        value = (x - grid[:, :, :-(k + 1)]) / (grid[:, :, k:-1] - grid[:, :, :-(k + 1)]) * B_km1[:, :, :-1] + (\n",
        "                grid[:, :, k + 1:] - x) / (grid[:, :, k + 1:] - grid[:, :, 1:(-k)]) * B_km1[:, :, 1:]\n",
        "\n",
        "    value = torch.nan_to_num(value)\n",
        "    return value"
      ]
    },
    {
      "cell_type": "code",
      "execution_count": 13,
      "metadata": {
        "id": "aLTwDgZOFLd3"
      },
      "outputs": [],
      "source": [
        "def coef2curve(x_eval, grid, coef, k):\n",
        "    # Computes the spline(x) = c_1 B_1(x) + c_2 B_2(x) + ... + c_n B_n(x)\n",
        "    # by taking the weighted sum of B-spline basis functions with coefficients c_i\n",
        "\n",
        "    b_splines = B_batch(x_eval, grid, k=k)  # Compute all B_i(x) basis values\n",
        "    y_eval = torch.einsum('ijk,jlk->ijl', b_splines, coef.to(b_splines.device))  # Compute sum of c_i * B_i(x)\n",
        "\n",
        "    return y_eval"
      ]
    },
    {
      "cell_type": "code",
      "execution_count": 14,
      "metadata": {
        "id": "EeW3qpb1Fhk-"
      },
      "outputs": [],
      "source": [
        "def curve2coef(x_eval, y_eval, grid, k):\n",
        "    # Estimate spline coefficients c_i from known values y_eval = sum c_i B_i(x_eval)\n",
        "    # Solves a least-squares problem to find the best-fitting coefficients for the B-spline basis\n",
        "\n",
        "    batch = x_eval.shape[0]  # Number of samples\n",
        "\n",
        "    in_dim = x_eval.shape[1]  # Input dimensions (i.e., number of features)\n",
        "\n",
        "    out_dim = y_eval.shape[2]  # Output dimensions\n",
        "\n",
        "    n_coef = grid.shape[1] - k - 1  # Number of B-spline basis functions (n), derived from knot count and spline degree\n",
        "\n",
        "    # Compute B-spline basis matrix: shape (batch, in_dim, n_coef)\n",
        "    mat = B_batch(x_eval, grid, k)\n",
        "\n",
        "    # Rearrange basis matrix to match least-squares input dimensions:\n",
        "    # (in_dim, out_dim, batch, n_coef)\n",
        "    mat = mat.permute(1, 0, 2)[:, None, :, :].expand(in_dim, out_dim, batch, n_coef)\n",
        "\n",
        "    # Rearrange target outputs to shape (in_dim, out_dim, batch, 1)\n",
        "    y_eval = y_eval.permute(1, 2, 0).unsqueeze(dim=3)\n",
        "\n",
        "    try:\n",
        "        # Solve least-squares: find coef such that mat @ coef ≈ y_eval\n",
        "        # coef shape: (in_dim, out_dim, n_coef)\n",
        "        coef = torch.linalg.lstsq(mat, y_eval).solution[:, :, :, 0]\n",
        "    except:\n",
        "        print('lstsq failed')  # Handle rare numerical failures\n",
        "\n",
        "    return coef  # Return estimated coefficients for spline(x) = sum c_i B_i(x)\n"
      ]
    },
    {
      "cell_type": "code",
      "execution_count": 15,
      "metadata": {
        "id": "5RsBep01FlDb"
      },
      "outputs": [],
      "source": [
        "def extend_grid(grid, k_extend=0):\n",
        "    # Extends the knot grid on both sides by repeating the boundary spacing (h)\n",
        "    # This is necessary for constructing B-splines of degree k, which require additional knots at the boundaries\n",
        "\n",
        "    h = (grid[:, [-1]] - grid[:, [0]]) / (grid.shape[1] - 1)\n",
        "\n",
        "    for i in range(k_extend):\n",
        "        grid = torch.cat([grid[:, [0]] - h, grid], dim=1)\n",
        "\n",
        "        grid = torch.cat([grid, grid[:, [-1]] + h], dim=1)\n",
        "\n",
        "    return grid  # Returns grid extended on both sides by k_extend steps"
      ]
    },
    {
      "cell_type": "code",
      "execution_count": 16,
      "metadata": {
        "id": "n4AecCCjFrk7"
      },
      "outputs": [],
      "source": [
        "def sparse_mask(in_dim, out_dim):\n",
        "\n",
        "    in_coord = torch.arange(in_dim) * 1 / in_dim + 1 / (2 * in_dim)\n",
        "    out_coord = torch.arange(out_dim) * 1 / out_dim + 1 / (2 * out_dim)\n",
        "\n",
        "    dist_mat = torch.abs(out_coord[:, None] - in_coord[None, :])\n",
        "    in_nearest = torch.argmin(dist_mat, dim=0)\n",
        "    in_connection = torch.stack([torch.arange(in_dim), in_nearest]).permute(1, 0)\n",
        "    out_nearest = torch.argmin(dist_mat, dim=1)\n",
        "    out_connection = torch.stack([out_nearest, torch.arange(out_dim)]).permute(1, 0)\n",
        "    all_connection = torch.cat([in_connection, out_connection], dim=0)\n",
        "    mask = torch.zeros(in_dim, out_dim)\n",
        "    mask[all_connection[:, 0], all_connection[:, 1]] = 1.\n",
        "\n",
        "    return mask"
      ]
    },
    {
      "cell_type": "code",
      "execution_count": 17,
      "metadata": {
        "id": "e8Iq-1F0FzP3"
      },
      "outputs": [],
      "source": [
        "class KANLayer(nn.Module):\n",
        "\n",
        "    def __init__(self, in_dim=3, out_dim=2, num=5, k=3, noise_scale=0.5, scale_base_mu=0.0, scale_base_sigma=1.0,\n",
        "                 scale_sp=1.0, base_fun=torch.nn.SiLU(), grid_eps=0.02, grid_range=[-1, 1], sp_trainable=True,\n",
        "                 sb_trainable=True, device='cpu', sparse_init=False):\n",
        "\n",
        "        super(KANLayer, self).__init__()\n",
        "        # size\n",
        "        self.out_dim = out_dim\n",
        "        self.in_dim = in_dim\n",
        "        self.num = num\n",
        "        self.k = k\n",
        "\n",
        "        grid = torch.linspace(grid_range[0], grid_range[1], steps=num + 1)[None, :].expand(self.in_dim, num + 1)\n",
        "        grid = extend_grid(grid, k_extend=k)\n",
        "        self.grid = torch.nn.Parameter(grid).requires_grad_(False)\n",
        "        noises = (torch.rand(self.num + 1, self.in_dim, self.out_dim) - 1 / 2) * noise_scale / num\n",
        "\n",
        "        self.coef = torch.nn.Parameter(curve2coef(self.grid[:, k:-k].permute(1, 0), noises, self.grid, k))\n",
        "\n",
        "        if sparse_init:\n",
        "            self.mask = torch.nn.Parameter(sparse_mask(in_dim, out_dim)).requires_grad_(False)\n",
        "        else:\n",
        "            self.mask = torch.nn.Parameter(torch.ones(in_dim, out_dim)).requires_grad_(False)\n",
        "\n",
        "        self.scale_base = torch.nn.Parameter(scale_base_mu * 1 / np.sqrt(in_dim) + \\\n",
        "                                             scale_base_sigma * (torch.rand(in_dim, out_dim) * 2 - 1) * 1 / np.sqrt(\n",
        "            in_dim)).requires_grad_(sb_trainable)\n",
        "        self.scale_sp = torch.nn.Parameter(\n",
        "            torch.ones(in_dim, out_dim) * scale_sp * 1 / np.sqrt(in_dim) * self.mask).requires_grad_(\n",
        "            sp_trainable)  # make scale trainable\n",
        "        self.base_fun = base_fun\n",
        "\n",
        "        self.grid_eps = grid_eps\n",
        "\n",
        "        self.to(device)\n",
        "\n",
        "    def to(self, device):\n",
        "        super(KANLayer, self).to(device)\n",
        "        self.device = device\n",
        "        return self\n",
        "\n",
        "    def forward(self, x):\n",
        "\n",
        "        batch = x.shape[0]\n",
        "        preacts = x[:, None, :].clone().expand(batch, self.out_dim, self.in_dim)\n",
        "\n",
        "        base = self.base_fun(x)  # (batch, in_dim)\n",
        "        y = coef2curve(x_eval=x, grid=self.grid, coef=self.coef, k=self.k)\n",
        "\n",
        "        postspline = y.clone().permute(0, 2, 1)\n",
        "\n",
        "        y = self.scale_base[None, :, :] * base[:, :, None] + self.scale_sp[None, :, :] * y\n",
        "        y = self.mask[None, :, :] * y\n",
        "\n",
        "        postacts = y.clone().permute(0, 2, 1)\n",
        "\n",
        "        y = torch.sum(y, dim=1)\n",
        "        return y, preacts, postacts, postspline\n",
        "\n",
        "    def update_grid_from_samples(self, x, mode='sample'):\n",
        "\n",
        "        batch = x.shape[0]\n",
        "        x_pos = torch.sort(x, dim=0)[0]\n",
        "        y_eval = coef2curve(x_pos, self.grid, self.coef, self.k)\n",
        "        num_interval = self.grid.shape[1] - 1 - 2 * self.k\n",
        "\n",
        "        def get_grid(num_interval):\n",
        "            ids = [int(batch / num_interval * i) for i in range(num_interval)] + [-1]\n",
        "            grid_adaptive = x_pos[ids, :].permute(1, 0)\n",
        "            margin = 0.00\n",
        "            h = (grid_adaptive[:, [-1]] - grid_adaptive[:, [0]] + 2 * margin) / num_interval\n",
        "            grid_uniform = grid_adaptive[:, [0]] - margin + h * torch.arange(num_interval + 1, )[None, :].to(x.device)\n",
        "            grid = self.grid_eps * grid_uniform + (1 - self.grid_eps) * grid_adaptive\n",
        "            return grid\n",
        "\n",
        "        grid = get_grid(num_interval)\n",
        "\n",
        "        if mode == 'grid':\n",
        "            sample_grid = get_grid(2 * num_interval)\n",
        "            x_pos = sample_grid.permute(1, 0)\n",
        "            y_eval = coef2curve(x_pos, self.grid, self.coef, self.k)\n",
        "\n",
        "        self.grid.data = extend_grid(grid, k_extend=self.k)\n",
        "\n",
        "        self.coef.data = curve2coef(x_pos, y_eval, self.grid, self.k)"
      ]
    },
    {
      "cell_type": "code",
      "execution_count": 18,
      "metadata": {
        "id": "TppDj1NYF3n7"
      },
      "outputs": [],
      "source": [
        "class MyKAN(nn.Module):\n",
        "    def __init__(self, width=None, grid=3, k=3, mult_arity=2, seed=1, device='cpu'):\n",
        "        super(MyKAN, self).__init__()\n",
        "        torch.manual_seed(seed)\n",
        "        np.random.seed(seed)\n",
        "        random.seed(seed)\n",
        "\n",
        "        self.width = [[w, 0] if isinstance(w, int) else w for w in width]\n",
        "        self.depth = len(self.width) - 1\n",
        "        self.mult_arity = mult_arity\n",
        "        self.device = device\n",
        "        self.act_fun = nn.ModuleList()\n",
        "\n",
        "        for l in range(self.depth):\n",
        "            grid_l = grid if isinstance(grid, int) else grid[l]\n",
        "            k_l = k if isinstance(k, int) else k[l]\n",
        "\n",
        "            layer = KANLayer(\n",
        "                in_dim=self.width_in[l],\n",
        "                out_dim=self.width_out[l + 1],\n",
        "                num=grid_l,\n",
        "                k=k_l,\n",
        "                noise_scale=0.3,\n",
        "                scale_base_mu=0.0,\n",
        "                scale_base_sigma=1.0,\n",
        "                scale_sp=1.0,\n",
        "                base_fun=torch.nn.SiLU(),\n",
        "                grid_eps=0.02,\n",
        "                grid_range=[-1, 1],\n",
        "                sp_trainable=True,\n",
        "                sb_trainable=True,\n",
        "                sparse_init=False\n",
        "            )\n",
        "            self.act_fun.append(layer)\n",
        "\n",
        "        self.to(device)\n",
        "\n",
        "    @property\n",
        "    def width_in(self):\n",
        "        return [sum(w) for w in self.width]\n",
        "\n",
        "    @property\n",
        "    def width_out(self):\n",
        "        if isinstance(self.mult_arity, int):\n",
        "            return [w[0] + self.mult_arity * w[1] for w in self.width]\n",
        "        else:\n",
        "            return [w[0] + int(np.sum(a)) for w, a in zip(self.width, self.mult_arity)]\n",
        "\n",
        "    def forward(self, x):\n",
        "        x = x.to(self.device)\n",
        "        for l in range(self.depth):\n",
        "            x, _, _, _ = self.act_fun[l](x)\n",
        "        return x\n",
        "\n",
        "    def fit(self, dataset, steps=100, lr=1.0, loss_fn=None, batch=-1, opt=\"LBFGS\", lamb=0.):\n",
        "        if loss_fn is None:\n",
        "            loss_fn = lambda x, y: torch.mean((x - y) ** 2)\n",
        "\n",
        "        if opt == \"Adam\":\n",
        "            optimizer = torch.optim.Adam(self.parameters(), lr=lr)\n",
        "        elif opt == \"LBFGS\":\n",
        "            optimizer = LBFGS(self.parameters(), lr=lr, history_size=10, line_search_fn=\"strong_wolfe\",\n",
        "                              tolerance_grad=1e-32, tolerance_change=1e-32, tolerance_ys=1e-32)\n",
        "\n",
        "        train_input = dataset['train_input']\n",
        "        train_label = dataset['train_label']\n",
        "        test_input = dataset['test_input']\n",
        "        test_label = dataset['test_label']\n",
        "\n",
        "        if batch == -1 or batch > train_input.shape[0]:\n",
        "            batch_size = train_input.shape[0]\n",
        "            batch_size_test = test_input.shape[0]\n",
        "        else:\n",
        "            batch_size = batch\n",
        "            batch_size_test = batch\n",
        "\n",
        "        results = {\n",
        "            'train_loss': [],\n",
        "            'test_loss': [],\n",
        "            'reg': []\n",
        "        }\n",
        "\n",
        "        def compute_reg():\n",
        "            return torch.tensor(0.)  # Placeholder: add reg logic here if needed\n",
        "\n",
        "        def closure():\n",
        "            optimizer.zero_grad()\n",
        "            idx = torch.randint(0, train_input.shape[0], (batch_size,))\n",
        "            pred = self(train_input[idx])\n",
        "            loss = loss_fn(pred, train_label[idx])\n",
        "            reg = compute_reg()\n",
        "            total_loss = loss + lamb * reg\n",
        "            total_loss.backward()\n",
        "            return total_loss\n",
        "\n",
        "        pbar = tqdm(range(steps), ncols=100)\n",
        "\n",
        "        for step in pbar:\n",
        "            if opt == \"LBFGS\":\n",
        "                optimizer.step(closure)\n",
        "            else:\n",
        "                idx = torch.randint(0, train_input.shape[0], (batch_size,))\n",
        "                pred = self(train_input[idx])\n",
        "                loss = loss_fn(pred, train_label[idx])\n",
        "                reg = compute_reg()\n",
        "                total_loss = loss + lamb * reg\n",
        "                optimizer.zero_grad()\n",
        "                total_loss.backward()\n",
        "                optimizer.step()\n",
        "\n",
        "            with torch.no_grad():\n",
        "                train_pred = self(train_input)\n",
        "                test_pred = self(test_input)\n",
        "                train_rmse = torch.sqrt(loss_fn(train_pred, train_label)).item()\n",
        "                test_rmse = torch.sqrt(loss_fn(test_pred, test_label)).item()\n",
        "                results['train_loss'].append(train_rmse)\n",
        "                results['test_loss'].append(test_rmse)\n",
        "                results['reg'].append(compute_reg().item())\n",
        "\n",
        "                pbar.set_description(\n",
        "                    f\"| train_loss: {train_rmse:.2e} | test_loss: {test_rmse:.2e} | reg: {results['train_loss']}         |\")\n",
        "\n",
        "        return results\n"
      ]
    },
    {
      "cell_type": "code",
      "execution_count": 19,
      "metadata": {
        "id": "C4mrMD6lHgI-"
      },
      "outputs": [],
      "source": [
        "import matplotlib.pyplot as plt"
      ]
    },
    {
      "cell_type": "code",
      "execution_count": 20,
      "metadata": {
        "id": "LTkFEyEOH5ej"
      },
      "outputs": [],
      "source": [
        "def create_dataset(\n",
        "    f,  # The function to generate labels, e.g., lambda x: torch.exp(...)\n",
        "    n_var: int = 1, # Number of input variables (features)\n",
        "    device: str = 'cpu', # Device to place tensors on ('cpu' or 'cuda')\n",
        "    train_num: int = 1000, # Number of training samples\n",
        "    test_num: int = 200, # Number of test samples\n",
        "    noise_std: float = 0.05, # Standard deviation of Gaussian noise added to labels\n",
        "    x_range: tuple = (-1.0, 1.0) # Range for input x values (min_val, max_val)\n",
        ") -> dict:\n",
        "    \"\"\"\n",
        "    Generates a synthetic dataset based on a given function f.\n",
        "\n",
        "    Args:\n",
        "        f (callable): A function that takes a torch.Tensor of shape (num_samples, n_var)\n",
        "                      and returns a torch.Tensor of shape (num_samples, output_dim).\n",
        "                      The output_dim is inferred from the function's output.\n",
        "        n_var (int): The number of input variables (features) for each sample.\n",
        "        device (str): The device ('cpu' or 'cuda') where the tensors should be stored.\n",
        "        train_num (int): The number of samples for the training set.\n",
        "        test_num (int): The number of samples for the test set.\n",
        "        noise_std (float): The standard deviation of the Gaussian noise to add to the labels.\n",
        "        x_range (tuple): A tuple (min_val, max_val) defining the range for input x values.\n",
        "\n",
        "    Returns:\n",
        "        dict: A dictionary containing 'train_input', 'train_label',\n",
        "              'test_input', and 'test_label' as torch.Tensors, all on the specified device.\n",
        "    \"\"\"\n",
        "\n",
        "    # Generate random input data within the specified range\n",
        "    train_input = torch.rand(train_num, n_var) * (x_range[1] - x_range[0]) + x_range[0]\n",
        "    test_input = torch.rand(test_num, n_var) * (x_range[1] - x_range[0]) + x_range[0]\n",
        "\n",
        "    # Move inputs to the specified device\n",
        "    train_input = train_input.to(device).float()\n",
        "    test_input = test_input.to(device).float()\n",
        "\n",
        "    # Generate labels using the provided function f\n",
        "    # Ensure f handles the input shape (N, n_var) correctly and returns (N, output_dim)\n",
        "    with torch.no_grad(): # No need to track gradients for data generation\n",
        "        train_label_base = f(train_input)\n",
        "        test_label_base = f(test_input)\n",
        "\n",
        "    # Infer output_dim from the function's output\n",
        "    output_dim = train_label_base.shape[1] if train_label_base.dim() > 1 else 1\n",
        "\n",
        "    # Add noise to the labels\n",
        "    train_label = train_label_base + torch.randn(train_num, output_dim, device=device) * noise_std\n",
        "    test_label = test_label_base + torch.randn(test_num, output_dim, device=device) * noise_std\n",
        "\n",
        "    return {\n",
        "        'train_input': train_input,\n",
        "        'train_label': train_label,\n",
        "        'test_input': test_input,\n",
        "        'test_label': test_label\n",
        "    }"
      ]
    },
    {
      "cell_type": "code",
      "execution_count": 21,
      "metadata": {
        "colab": {
          "base_uri": "https://localhost:8080/",
          "height": 537
        },
        "id": "WJCjErpvGFMs",
        "outputId": "e86a4dda-0c67-455d-fd99-c01f00575f02"
      },
      "outputs": [
        {
          "name": "stdout",
          "output_type": "stream",
          "text": [
            "cpu\n",
            "checkpoint directory created: ./model\n",
            "saving model version 0.0\n"
          ]
        },
        {
          "name": "stderr",
          "output_type": "stream",
          "text": [
            "| train_loss: 5.97e-01 | test_loss: 6.37e-01 | reg: 8.07e+00 | : 100%|█| 200/200 [00:29<00:00,  6.71\n"
          ]
        },
        {
          "name": "stdout",
          "output_type": "stream",
          "text": [
            "saving model version 0.1\n"
          ]
        },
        {
          "data": {
            "image/png": "[encoded data removed]",
            "text/plain": [
              "<Figure size 640x480 with 1 Axes>"
            ]
          },
          "metadata": {},
          "output_type": "display_data"
        }
      ],
      "source": [
        "device = torch.device('cuda' if torch.cuda.is_available() else 'cpu')\n",
        "print(device)\n",
        "\n",
        "# create dataset\n",
        "f = lambda x: torch.exp(torch.sin(torch.pi*x[:,[0]]) + x[:,[1]]**2)\n",
        "dataset = create_dataset(f, n_var=2, device=device, train_num=1000)\n",
        "\n",
        "steps = 200\n",
        "k = 3\n",
        "grids = 5\n",
        "\n",
        "model = KAN(width=[2,1,1], grid=grids, k=k, seed=0, device=device)\n",
        "\n",
        "results = model.fit(dataset, opt=\"LBFGS\", steps=steps)\n",
        "train_losses = results['train_loss']\n",
        "test_losses = results['test_loss']\n",
        "\n",
        "\n",
        "plt.plot(train_losses)\n",
        "plt.plot(test_losses)\n",
        "\n",
        "plt.legend(['train', 'test',])\n",
        "plt.ylabel('RMSE')\n",
        "plt.xlabel('step')\n",
        "plt.yscale('log')"
      ]
    },
    {
      "cell_type": "code",
      "execution_count": 23,
      "metadata": {
        "colab": {
          "base_uri": "https://localhost:8080/"
        },
        "id": "q0uT9Zd7H4tN",
        "outputId": "716b68bc-1f3c-4753-84be-b163397912e8"
      },
      "outputs": [
        {
          "name": "stderr",
          "output_type": "stream",
          "text": [
            "| train_loss: 6.12e-01 | test_loss: 6.58e-01 | reg: [0.7824541926383972, 0.7099206447601318, 0.70608\n"
          ]
        },
        {
          "data": {
            "image/png": "[encoded data removed]",
            "text/plain": [
              "<Figure size 640x480 with 1 Axes>"
            ]
          },
          "metadata": {},
          "output_type": "display_data"
        }
      ],
      "source": [
        "steps2 = 200\n",
        "k2 = 3\n",
        "grids2 = 5\n",
        "\n",
        "my_model = MyKAN(width=[2,1,1], grid=grids2, k=k2, seed=0, device=device)\n",
        "\n",
        "\n",
        "my_results = my_model.fit(dataset, opt=\"LBFGS\", steps=steps)\n",
        "my_train_losses = my_results['train_loss']\n",
        "my_test_losses = my_results['test_loss']\n",
        "\n",
        "\n",
        "plt.plot(my_train_losses)\n",
        "plt.plot(my_test_losses)\n",
        "\n",
        "plt.legend(['train', 'test'])\n",
        "plt.ylabel('RMSE')\n",
        "plt.xlabel('step')\n",
        "plt.yscale('log')"
      ]
    }
  ],
  "metadata": {
    "colab": {
      "provenance": []
    },
    "kernelspec": {
      "display_name": "env",
      "language": "python",
      "name": "python3"
    },
    "language_info": {
      "codemirror_mode": {
        "name": "ipython",
        "version": 3
      },
      "file_extension": ".py",
      "mimetype": "text/x-python",
      "name": "python",
      "nbconvert_exporter": "python",
      "pygments_lexer": "ipython3",
      "version": "3.10.7"
    }
  },
  "nbformat": 4,
  "nbformat_minor": 0
}
